{
 "cells": [
  {
   "cell_type": "markdown",
   "metadata": {},
   "source": [
    "# ¡Hola Natalia! 😊\n",
    "\n",
    "Mi nombre es **Alejandro Castellanos** y hoy tengo el placer de ser el revisor de tu proyecto.\n",
    "\n",
    "Voy a revisar todo tu código con detalle, buscando tanto los puntos fuertes como aquellos en los que podrías mejorar. Te dejaré comentarios a lo largo del notebook, destacando lo que has hecho bien y sugiriendo ajustes donde sea necesario. Si encuentro algún error, no te preocupes, te lo haré saber de forma clara y te daré información útil para que puedas corregirlo en la próxima iteración. Si en algún punto tienes comentarios, siéntete libre de dejarlos también.\n",
    "\n",
    "\n",
    "Encontrarás mis comentarios específicos dentro de cajas verdes, amarillas o rojas, es muy importante que no muevas, modifiques o borres mis comentarios, con el fin de tener un seguimiento adecuado de tu proceso:\n",
    "\n",
    "\n",
    "<div class=\"alert alert-block alert-success\">\n",
    "<b>Comentario del revisor</b> <a class=“tocSkip”></a>\n",
    "Si todo está perfecto.\n",
    "</div>\n",
    "\n",
    "<div class=\"alert alert-block alert-warning\">\n",
    "<b>Comentario del revisor</b> <a class=“tocSkip”></a>\n",
    "Si tu código está bien pero se puede mejorar o hay algún detalle que le hace falta.\n",
    "</div>\n",
    "\n",
    "<div class=\"alert alert-block alert-danger\">\n",
    "<b>Comentario del revisor</b> <a class=“tocSkip”></a>\n",
    "Si de pronto hace falta algo o existe algún problema con tu código o conclusiones.\n",
    "</div>\n",
    "\n",
    "Puedes responderme de esta forma:\n",
    "<div class=\"alert alert-block alert-info\">\n",
    "<b>Respuesta del estudiante</b> <a class=“tocSkip”></a>\n",
    "</div>\n",
    "\n",
    "A continuación te dejaré un comentario general con mi valoración del proyecto. **¡Mi objetivo es que sigas aprendiendo y mejorando con cada paso!**"
   ]
  },
  {
   "cell_type": "markdown",
   "metadata": {},
   "source": [
    "---"
   ]
  },
  {
   "cell_type": "markdown",
   "metadata": {},
   "source": [
    "<div class=\"alert alert-block alert-success\">\n",
    "<b>Comentario General del revisor (1ra Iteración)</b> <a class=“tocSkip”></a>\n",
    "\n",
    "Natalia has realizado un trabajo exhaustivo y bien estructurado, abordando cada objetivo con metodología clara y reflexiones pertinentes. En la exploración inicial, identificaste datos limpios pero con observaciones relevantes. En la implementación de kNN, destacaste correctamente el impacto del escalado y el tipo de distancia en el rendimiento del modelo, validando su importancia práctica. Al transformar el problema a clasificación, lograste contrastar efectivamente el modelo kNN con un enfoque básico, reforzando la superioridad del primero con datos escalados. Aplicación de métricas de evaluación como RMSE, R² y el F1 score para validar la calidad de tus modelos refleja un rigor sobresaliente. Además aplicaste de manera correcta las operaciones algebraicas para transformar los datos y lograr hacer una comparativa en el rendimiento de la información original vs los datos ofuscados.\n",
    "    \n",
    "El análisis que incluiste en las diferentes secciones del proyecto le da valor a tu trabajo, y complementa notablemente tus habiliadades técnicas. Asegurate de incluir este tipo de análisis para cada elemento de información (tabla, gráficas, etc) que obtengas, de esta forma tus ideas y conclusiones estarán mejor justificadas. \n",
    "\n",
    "¡Continúa por este camino y te deseo mucho éxito en tu próximo Sprint! 🚀\n",
    " \n",
    "*Estado del Proyecto*: **Aprobado**\n",
    "\n",
    "</div>"
   ]
  },
  {
   "cell_type": "markdown",
   "metadata": {},
   "source": [
    "----"
   ]
  },
  {
   "cell_type": "markdown",
   "metadata": {},
   "source": [
    "# Descripción"
   ]
  },
  {
   "cell_type": "markdown",
   "metadata": {},
   "source": [
    "La compañía de seguros Sure Tomorrow quiere resolver varias tareas con la ayuda de machine learning y te pide que evalúes esa posibilidad.\n",
    "- Tarea 1: encontrar clientes que sean similares a un cliente determinado. Esto ayudará a los agentes de la compañía con el marketing.\n",
    "- Tarea 2: predecir la probabilidad de que un nuevo cliente reciba una prestación del seguro. ¿Puede un modelo de predictivo funcionar mejor que un modelo dummy?\n",
    "- Tarea 3: predecir el número de prestaciones de seguro que un nuevo cliente pueda recibir utilizando un modelo de regresión lineal.\n",
    "- Tarea 4: proteger los datos personales de los clientes sin afectar al modelo del ejercicio anterior. Es necesario desarrollar un algoritmo de transformación de datos que dificulte la recuperación de la información personal si los datos caen en manos equivocadas. Esto se denomina enmascaramiento u ofuscación de datos. Pero los datos deben protegerse de tal manera que no se vea afectada la calidad de los modelos de machine learning. No es necesario elegir el mejor modelo, basta con demostrar que el algoritmo funciona correctamente.\n"
   ]
  },
  {
   "cell_type": "markdown",
   "metadata": {},
   "source": [
    "# Preprocesamiento y exploración de datos\n",
    "\n",
    "## Inicialización"
   ]
  },
  {
   "cell_type": "code",
   "execution_count": 2,
   "metadata": {},
   "outputs": [
    {
     "name": "stdout",
     "output_type": "stream",
     "text": [
      "Requirement already satisfied: scikit-learn in /opt/conda/envs/python3/lib/python3.9/site-packages (0.24.1)\n",
      "Collecting scikit-learn\n",
      "  Downloading scikit_learn-1.6.1-cp39-cp39-manylinux_2_17_x86_64.manylinux2014_x86_64.whl.metadata (18 kB)\n",
      "Requirement already satisfied: numpy>=1.19.5 in /opt/conda/envs/python3/lib/python3.9/site-packages (from scikit-learn) (1.21.2)\n",
      "Requirement already satisfied: scipy>=1.6.0 in /opt/conda/envs/python3/lib/python3.9/site-packages (from scikit-learn) (1.10.1)\n",
      "Requirement already satisfied: joblib>=1.2.0 in /opt/conda/envs/python3/lib/python3.9/site-packages (from scikit-learn) (1.4.2)\n",
      "Requirement already satisfied: threadpoolctl>=3.1.0 in /opt/conda/envs/python3/lib/python3.9/site-packages (from scikit-learn) (3.5.0)\n",
      "Downloading scikit_learn-1.6.1-cp39-cp39-manylinux_2_17_x86_64.manylinux2014_x86_64.whl (13.5 MB)\n",
      "\u001b[2K   \u001b[90m━━━━━━━━━━━━━━━━━━━━━━━━━━━━━━━━━━━━━━━━\u001b[0m \u001b[32m13.5/13.5 MB\u001b[0m \u001b[31m99.5 MB/s\u001b[0m eta \u001b[36m0:00:00\u001b[0m:00:01\u001b[0m00:01\u001b[0m\n",
      "\u001b[?25hInstalling collected packages: scikit-learn\n",
      "  Attempting uninstall: scikit-learn\n",
      "    Found existing installation: scikit-learn 0.24.1\n",
      "    Uninstalling scikit-learn-0.24.1:\n",
      "\u001b[31mERROR: Could not install packages due to an OSError: [Errno 13] Permission denied: 'COPYING'\n",
      "Consider using the `--user` option or check the permissions.\n",
      "\u001b[0m\u001b[31m\n",
      "\u001b[0mNote: you may need to restart the kernel to use updated packages.\n"
     ]
    }
   ],
   "source": [
    "pip install scikit-learn --upgrade"
   ]
  },
  {
   "cell_type": "code",
   "execution_count": 39,
   "metadata": {},
   "outputs": [],
   "source": [
    "import numpy as np\n",
    "import pandas as pd\n",
    "\n",
    "import seaborn as sns\n",
    "\n",
    "import sklearn.linear_model\n",
    "import sklearn.metrics\n",
    "import sklearn.neighbors\n",
    "import sklearn.preprocessing\n",
    "\n",
    "from sklearn.model_selection import train_test_split\n",
    "\n",
    "from IPython.display import display\n",
    "\n",
    "from sklearn.preprocessing import MaxAbsScaler\n",
    "from sklearn.neighbors import NearestNeighbors\n",
    "import math\n",
    "\n",
    "from sklearn.metrics import mean_squared_error\n",
    "from sklearn.dummy import DummyRegressor\n",
    "from sklearn.linear_model import LinearRegression\n",
    "\n",
    "import matplotlib.pyplot as plt\n",
    "\n",
    "from sklearn.metrics import mean_squared_error, r2_score"
   ]
  },
  {
   "cell_type": "markdown",
   "metadata": {},
   "source": [
    "## Carga de datos"
   ]
  },
  {
   "cell_type": "markdown",
   "metadata": {},
   "source": [
    "Carga los datos y haz una revisión básica para comprobar que no hay problemas obvios."
   ]
  },
  {
   "cell_type": "code",
   "execution_count": 5,
   "metadata": {},
   "outputs": [],
   "source": [
    "df = pd.read_csv('/datasets/insurance_us.csv')"
   ]
  },
  {
   "cell_type": "markdown",
   "metadata": {},
   "source": [
    "Renombramos las columnas para que el código se vea más coherente con su estilo."
   ]
  },
  {
   "cell_type": "code",
   "execution_count": 6,
   "metadata": {},
   "outputs": [],
   "source": [
    "df = df.rename(columns={'Gender': 'gender', 'Age': 'age', 'Salary': 'income', 'Family members': 'family_members', 'Insurance benefits': 'insurance_benefits'})"
   ]
  },
  {
   "cell_type": "markdown",
   "metadata": {},
   "source": [
    "<div class=\"alert alert-block alert-success\">\n",
    "<b>Comentario del revisor (1ra Iteración)</b> <a class=“tocSkip”></a>\n",
    "\n",
    "Buen trabajo has renombrado las columnas para que sean más consistentes y manejables, lo cual es una buena práctica para evitar errores en el manejo de datos.\n",
    "\n",
    "\n",
    "\n",
    "</div>"
   ]
  },
  {
   "cell_type": "code",
   "execution_count": 7,
   "metadata": {},
   "outputs": [
    {
     "data": {
      "text/html": [
       "<div>\n",
       "<style scoped>\n",
       "    .dataframe tbody tr th:only-of-type {\n",
       "        vertical-align: middle;\n",
       "    }\n",
       "\n",
       "    .dataframe tbody tr th {\n",
       "        vertical-align: top;\n",
       "    }\n",
       "\n",
       "    .dataframe thead th {\n",
       "        text-align: right;\n",
       "    }\n",
       "</style>\n",
       "<table border=\"1\" class=\"dataframe\">\n",
       "  <thead>\n",
       "    <tr style=\"text-align: right;\">\n",
       "      <th></th>\n",
       "      <th>gender</th>\n",
       "      <th>age</th>\n",
       "      <th>income</th>\n",
       "      <th>family_members</th>\n",
       "      <th>insurance_benefits</th>\n",
       "    </tr>\n",
       "  </thead>\n",
       "  <tbody>\n",
       "    <tr>\n",
       "      <th>2939</th>\n",
       "      <td>0</td>\n",
       "      <td>37.0</td>\n",
       "      <td>21400.0</td>\n",
       "      <td>0</td>\n",
       "      <td>0</td>\n",
       "    </tr>\n",
       "    <tr>\n",
       "      <th>3051</th>\n",
       "      <td>1</td>\n",
       "      <td>23.0</td>\n",
       "      <td>56900.0</td>\n",
       "      <td>4</td>\n",
       "      <td>0</td>\n",
       "    </tr>\n",
       "    <tr>\n",
       "      <th>1634</th>\n",
       "      <td>1</td>\n",
       "      <td>36.0</td>\n",
       "      <td>33800.0</td>\n",
       "      <td>1</td>\n",
       "      <td>0</td>\n",
       "    </tr>\n",
       "    <tr>\n",
       "      <th>358</th>\n",
       "      <td>1</td>\n",
       "      <td>32.0</td>\n",
       "      <td>50700.0</td>\n",
       "      <td>2</td>\n",
       "      <td>0</td>\n",
       "    </tr>\n",
       "    <tr>\n",
       "      <th>1328</th>\n",
       "      <td>0</td>\n",
       "      <td>47.0</td>\n",
       "      <td>30900.0</td>\n",
       "      <td>0</td>\n",
       "      <td>1</td>\n",
       "    </tr>\n",
       "    <tr>\n",
       "      <th>4013</th>\n",
       "      <td>0</td>\n",
       "      <td>26.0</td>\n",
       "      <td>44600.0</td>\n",
       "      <td>2</td>\n",
       "      <td>0</td>\n",
       "    </tr>\n",
       "    <tr>\n",
       "      <th>4304</th>\n",
       "      <td>0</td>\n",
       "      <td>35.0</td>\n",
       "      <td>39100.0</td>\n",
       "      <td>0</td>\n",
       "      <td>0</td>\n",
       "    </tr>\n",
       "    <tr>\n",
       "      <th>1222</th>\n",
       "      <td>1</td>\n",
       "      <td>46.0</td>\n",
       "      <td>32300.0</td>\n",
       "      <td>0</td>\n",
       "      <td>1</td>\n",
       "    </tr>\n",
       "    <tr>\n",
       "      <th>275</th>\n",
       "      <td>0</td>\n",
       "      <td>35.0</td>\n",
       "      <td>48700.0</td>\n",
       "      <td>1</td>\n",
       "      <td>0</td>\n",
       "    </tr>\n",
       "    <tr>\n",
       "      <th>2868</th>\n",
       "      <td>1</td>\n",
       "      <td>27.0</td>\n",
       "      <td>28800.0</td>\n",
       "      <td>2</td>\n",
       "      <td>0</td>\n",
       "    </tr>\n",
       "  </tbody>\n",
       "</table>\n",
       "</div>"
      ],
      "text/plain": [
       "      gender   age   income  family_members  insurance_benefits\n",
       "2939       0  37.0  21400.0               0                   0\n",
       "3051       1  23.0  56900.0               4                   0\n",
       "1634       1  36.0  33800.0               1                   0\n",
       "358        1  32.0  50700.0               2                   0\n",
       "1328       0  47.0  30900.0               0                   1\n",
       "4013       0  26.0  44600.0               2                   0\n",
       "4304       0  35.0  39100.0               0                   0\n",
       "1222       1  46.0  32300.0               0                   1\n",
       "275        0  35.0  48700.0               1                   0\n",
       "2868       1  27.0  28800.0               2                   0"
      ]
     },
     "execution_count": 7,
     "metadata": {},
     "output_type": "execute_result"
    }
   ],
   "source": [
    "df.sample(10)"
   ]
  },
  {
   "cell_type": "code",
   "execution_count": 8,
   "metadata": {},
   "outputs": [
    {
     "name": "stdout",
     "output_type": "stream",
     "text": [
      "<class 'pandas.core.frame.DataFrame'>\n",
      "RangeIndex: 5000 entries, 0 to 4999\n",
      "Data columns (total 5 columns):\n",
      " #   Column              Non-Null Count  Dtype  \n",
      "---  ------              --------------  -----  \n",
      " 0   gender              5000 non-null   int64  \n",
      " 1   age                 5000 non-null   float64\n",
      " 2   income              5000 non-null   float64\n",
      " 3   family_members      5000 non-null   int64  \n",
      " 4   insurance_benefits  5000 non-null   int64  \n",
      "dtypes: float64(2), int64(3)\n",
      "memory usage: 195.4 KB\n"
     ]
    }
   ],
   "source": [
    "df.info()"
   ]
  },
  {
   "cell_type": "code",
   "execution_count": 9,
   "metadata": {},
   "outputs": [],
   "source": [
    "# puede que queramos cambiar el tipo de edad (de float a int) aunque esto no es crucial\n",
    "\n",
    "# escribe tu conversión aquí si lo deseas:\n",
    "df['age'] = df['age'].astype(int)"
   ]
  },
  {
   "cell_type": "code",
   "execution_count": 10,
   "metadata": {},
   "outputs": [
    {
     "name": "stdout",
     "output_type": "stream",
     "text": [
      "<class 'pandas.core.frame.DataFrame'>\n",
      "RangeIndex: 5000 entries, 0 to 4999\n",
      "Data columns (total 5 columns):\n",
      " #   Column              Non-Null Count  Dtype  \n",
      "---  ------              --------------  -----  \n",
      " 0   gender              5000 non-null   int64  \n",
      " 1   age                 5000 non-null   int64  \n",
      " 2   income              5000 non-null   float64\n",
      " 3   family_members      5000 non-null   int64  \n",
      " 4   insurance_benefits  5000 non-null   int64  \n",
      "dtypes: float64(1), int64(4)\n",
      "memory usage: 195.4 KB\n"
     ]
    }
   ],
   "source": [
    "# comprueba que la conversión se haya realizado con éxito\n",
    "df.info()"
   ]
  },
  {
   "cell_type": "code",
   "execution_count": 11,
   "metadata": {},
   "outputs": [
    {
     "name": "stdout",
     "output_type": "stream",
     "text": [
      "            gender          age        income  family_members  \\\n",
      "count  5000.000000  5000.000000   5000.000000     5000.000000   \n",
      "mean      0.499000    30.952800  39916.360000        1.194200   \n",
      "std       0.500049     8.440807   9900.083569        1.091387   \n",
      "min       0.000000    18.000000   5300.000000        0.000000   \n",
      "25%       0.000000    24.000000  33300.000000        0.000000   \n",
      "50%       0.000000    30.000000  40200.000000        1.000000   \n",
      "75%       1.000000    37.000000  46600.000000        2.000000   \n",
      "max       1.000000    65.000000  79000.000000        6.000000   \n",
      "\n",
      "       insurance_benefits  \n",
      "count         5000.000000  \n",
      "mean             0.148000  \n",
      "std              0.463183  \n",
      "min              0.000000  \n",
      "25%              0.000000  \n",
      "50%              0.000000  \n",
      "75%              0.000000  \n",
      "max              5.000000  \n"
     ]
    }
   ],
   "source": [
    "# ahora echa un vistazo a las estadísticas descriptivas de los datos.# ¿Se ve todo bien?\n",
    "print (df.describe())"
   ]
  },
  {
   "cell_type": "markdown",
   "metadata": {},
   "source": [
    "Los datos contienen 5000 registros sin valores nulos. Y aparentemente está todo bien, las medias, los valores maximos y minimos están dentro de lo esperado. "
   ]
  },
  {
   "cell_type": "markdown",
   "metadata": {},
   "source": [
    "<div class=\"alert alert-block alert-success\">\n",
    "<b>Comentario del revisor (1ra Iteración)</b> <a class=“tocSkip”></a>\n",
    "\n",
    "Muy buen trabajo usando funciones como `info`, `describe` y `sample`, esto te permite hacer una primera revisión de los datos, su estructura y contenido. \n",
    "\n",
    "</div>"
   ]
  },
  {
   "cell_type": "markdown",
   "metadata": {},
   "source": [
    "## Análisis exploratorio de datos"
   ]
  },
  {
   "cell_type": "markdown",
   "metadata": {},
   "source": [
    "Vamos a comprobar rápidamente si existen determinados grupos de clientes observando el gráfico de pares."
   ]
  },
  {
   "cell_type": "code",
   "execution_count": 12,
   "metadata": {},
   "outputs": [
    {
     "data": {
      "image/png": "[encoded data removed]",
      "text/plain": [
       "<Figure size 1200x1200 with 30 Axes>"
      ]
     },
     "metadata": {},
     "output_type": "display_data"
    }
   ],
   "source": [
    "g = sns.pairplot(df, kind='hist')\n",
    "g.fig.set_size_inches(12, 12)"
   ]
  },
  {
   "cell_type": "markdown",
   "metadata": {},
   "source": [
    "De acuerdo, es un poco complicado detectar grupos obvios (clústeres) ya que es difícil combinar diversas variables simultáneamente (para analizar distribuciones multivariadas). Ahí es donde LA y ML pueden ser bastante útiles."
   ]
  },
  {
   "cell_type": "markdown",
   "metadata": {},
   "source": [
    "<div class=\"alert alert-block alert-warning\">\n",
    "<b>Comentario del revisor (1ra Iteración)</b> <a class=“tocSkip”></a>\n",
    "\n",
    "Has creado correctamente el *pair-plot*. Es muy importante que este tipo de información la analises e interpretes para que no se queden como datos sin contexto. Por ejemplo, podemos ver que *age* tiene una distribución sesgada a la derecha, lo que indica que hay más personas jóvenes que mayores, mientras que *insurance_benefits* presenta una distribución concentrada en valores bajos (0 o 1 predominante).\n",
    "\n",
    "</div>"
   ]
  },
  {
   "cell_type": "markdown",
   "metadata": {},
   "source": [
    "# Tarea 1. Clientes similares"
   ]
  },
  {
   "cell_type": "markdown",
   "metadata": {},
   "source": [
    "En el lenguaje de ML, es necesario desarrollar un procedimiento que devuelva los k vecinos más cercanos (objetos) para un objeto dado basándose en la distancia entre los objetos.\n",
    "Es posible que quieras revisar las siguientes lecciones (capítulo -> lección)- Distancia entre vectores -> Distancia euclidiana\n",
    "- Distancia entre vectores -> Distancia Manhattan\n",
    "\n",
    "Para resolver la tarea, podemos probar diferentes métricas de distancia."
   ]
  },
  {
   "cell_type": "markdown",
   "metadata": {},
   "source": [
    "Escribe una función que devuelva los k vecinos más cercanos para un $n^{th}$ objeto basándose en una métrica de distancia especificada. A la hora de realizar esta tarea no debe tenerse en cuenta el número de prestaciones de seguro recibidas.\n",
    "Puedes utilizar una implementación ya existente del algoritmo kNN de scikit-learn (consulta [el enlace](https://scikit-learn.org/stable/modules/generated/sklearn.neighbors.NearestNeighbors.html#sklearn.neighbors.NearestNeighbors)) o tu propia implementación.\n",
    "Pruébalo para cuatro combinaciones de dos casos- Escalado\n",
    "  - los datos no están escalados\n",
    "  - los datos se escalan con el escalador [MaxAbsScaler](https://scikit-learn.org/stable/modules/generated/sklearn.preprocessing.MaxAbsScaler.html)\n",
    "- Métricas de distancia\n",
    "  - Euclidiana\n",
    "  - Manhattan\n",
    "\n",
    "Responde a estas preguntas:- ¿El hecho de que los datos no estén escalados afecta al algoritmo kNN? Si es así, ¿cómo se manifiesta?- ¿Qué tan similares son los resultados al utilizar la métrica de distancia Manhattan (independientemente del escalado)?"
   ]
  },
  {
   "cell_type": "code",
   "execution_count": 13,
   "metadata": {},
   "outputs": [],
   "source": [
    "def get_knn(df, n, k, metric):\n",
    "    \"\"\"\n",
    "    Devuelve los k vecinos más cercanos\n",
    "    \n",
    "    :param df: DataFrame de pandas\n",
    "    :param n: número de objeto para el que buscamos vecinos\n",
    "    :param k: número de vecinos a devolver\n",
    "    :param metric: nombre de métrica de distancia\n",
    "    \"\"\"\n",
    "    feature_names = ['gender', 'age', 'income', 'family_members']\n",
    "    \n",
    "    nbrs = NearestNeighbors(n_neighbors=k+1, metric=metric).fit(df[feature_names])\n",
    "    distances, indices = nbrs.kneighbors([df.iloc[n][feature_names]])\n",
    "    \n",
    "    # Excluir el propio punto\n",
    "    indices = indices[0][1:]\n",
    "    distances = distances[0][1:]\n",
    "    \n",
    "    df_res = pd.concat([\n",
    "        df.iloc[indices], \n",
    "        pd.DataFrame(distances, index=indices, columns=['distance'])\n",
    "    ], axis=1)\n",
    "    \n",
    "    return df_res"
   ]
  },
  {
   "cell_type": "markdown",
   "metadata": {},
   "source": [
    "Escalar datos."
   ]
  },
  {
   "cell_type": "code",
   "execution_count": 15,
   "metadata": {},
   "outputs": [
    {
     "name": "stdout",
     "output_type": "stream",
     "text": [
      "Datos originales - Euclidiana:\n"
     ]
    },
    {
     "data": {
      "text/html": [
       "<div>\n",
       "<style scoped>\n",
       "    .dataframe tbody tr th:only-of-type {\n",
       "        vertical-align: middle;\n",
       "    }\n",
       "\n",
       "    .dataframe tbody tr th {\n",
       "        vertical-align: top;\n",
       "    }\n",
       "\n",
       "    .dataframe thead th {\n",
       "        text-align: right;\n",
       "    }\n",
       "</style>\n",
       "<table border=\"1\" class=\"dataframe\">\n",
       "  <thead>\n",
       "    <tr style=\"text-align: right;\">\n",
       "      <th></th>\n",
       "      <th>gender</th>\n",
       "      <th>age</th>\n",
       "      <th>income</th>\n",
       "      <th>family_members</th>\n",
       "      <th>insurance_benefits</th>\n",
       "      <th>distance</th>\n",
       "    </tr>\n",
       "  </thead>\n",
       "  <tbody>\n",
       "    <tr>\n",
       "      <th>2022</th>\n",
       "      <td>1</td>\n",
       "      <td>41</td>\n",
       "      <td>49600.0</td>\n",
       "      <td>0</td>\n",
       "      <td>0</td>\n",
       "      <td>1.000000</td>\n",
       "    </tr>\n",
       "    <tr>\n",
       "      <th>1225</th>\n",
       "      <td>0</td>\n",
       "      <td>42</td>\n",
       "      <td>49600.0</td>\n",
       "      <td>0</td>\n",
       "      <td>1</td>\n",
       "      <td>1.732051</td>\n",
       "    </tr>\n",
       "    <tr>\n",
       "      <th>4031</th>\n",
       "      <td>1</td>\n",
       "      <td>44</td>\n",
       "      <td>49600.0</td>\n",
       "      <td>2</td>\n",
       "      <td>1</td>\n",
       "      <td>3.162278</td>\n",
       "    </tr>\n",
       "    <tr>\n",
       "      <th>3424</th>\n",
       "      <td>0</td>\n",
       "      <td>38</td>\n",
       "      <td>49600.0</td>\n",
       "      <td>0</td>\n",
       "      <td>0</td>\n",
       "      <td>3.316625</td>\n",
       "    </tr>\n",
       "    <tr>\n",
       "      <th>815</th>\n",
       "      <td>1</td>\n",
       "      <td>37</td>\n",
       "      <td>49600.0</td>\n",
       "      <td>2</td>\n",
       "      <td>0</td>\n",
       "      <td>4.123106</td>\n",
       "    </tr>\n",
       "  </tbody>\n",
       "</table>\n",
       "</div>"
      ],
      "text/plain": [
       "      gender  age   income  family_members  insurance_benefits  distance\n",
       "2022       1   41  49600.0               0                   0  1.000000\n",
       "1225       0   42  49600.0               0                   1  1.732051\n",
       "4031       1   44  49600.0               2                   1  3.162278\n",
       "3424       0   38  49600.0               0                   0  3.316625\n",
       "815        1   37  49600.0               2                   0  4.123106"
      ]
     },
     "metadata": {},
     "output_type": "display_data"
    },
    {
     "name": "stdout",
     "output_type": "stream",
     "text": [
      "\n",
      "Datos escalados - Euclidiana:\n"
     ]
    },
    {
     "data": {
      "text/html": [
       "<div>\n",
       "<style scoped>\n",
       "    .dataframe tbody tr th:only-of-type {\n",
       "        vertical-align: middle;\n",
       "    }\n",
       "\n",
       "    .dataframe tbody tr th {\n",
       "        vertical-align: top;\n",
       "    }\n",
       "\n",
       "    .dataframe thead th {\n",
       "        text-align: right;\n",
       "    }\n",
       "</style>\n",
       "<table border=\"1\" class=\"dataframe\">\n",
       "  <thead>\n",
       "    <tr style=\"text-align: right;\">\n",
       "      <th></th>\n",
       "      <th>gender</th>\n",
       "      <th>age</th>\n",
       "      <th>income</th>\n",
       "      <th>family_members</th>\n",
       "      <th>insurance_benefits</th>\n",
       "      <th>distance</th>\n",
       "    </tr>\n",
       "  </thead>\n",
       "  <tbody>\n",
       "    <tr>\n",
       "      <th>2689</th>\n",
       "      <td>1.0</td>\n",
       "      <td>0.630769</td>\n",
       "      <td>0.634177</td>\n",
       "      <td>0.166667</td>\n",
       "      <td>0</td>\n",
       "      <td>0.006329</td>\n",
       "    </tr>\n",
       "    <tr>\n",
       "      <th>133</th>\n",
       "      <td>1.0</td>\n",
       "      <td>0.615385</td>\n",
       "      <td>0.636709</td>\n",
       "      <td>0.166667</td>\n",
       "      <td>0</td>\n",
       "      <td>0.017754</td>\n",
       "    </tr>\n",
       "    <tr>\n",
       "      <th>4869</th>\n",
       "      <td>1.0</td>\n",
       "      <td>0.646154</td>\n",
       "      <td>0.637975</td>\n",
       "      <td>0.166667</td>\n",
       "      <td>1</td>\n",
       "      <td>0.018418</td>\n",
       "    </tr>\n",
       "    <tr>\n",
       "      <th>3275</th>\n",
       "      <td>1.0</td>\n",
       "      <td>0.646154</td>\n",
       "      <td>0.651899</td>\n",
       "      <td>0.166667</td>\n",
       "      <td>1</td>\n",
       "      <td>0.028550</td>\n",
       "    </tr>\n",
       "    <tr>\n",
       "      <th>1567</th>\n",
       "      <td>1.0</td>\n",
       "      <td>0.615385</td>\n",
       "      <td>0.602532</td>\n",
       "      <td>0.166667</td>\n",
       "      <td>0</td>\n",
       "      <td>0.029624</td>\n",
       "    </tr>\n",
       "  </tbody>\n",
       "</table>\n",
       "</div>"
      ],
      "text/plain": [
       "      gender       age    income  family_members  insurance_benefits  distance\n",
       "2689     1.0  0.630769  0.634177        0.166667                   0  0.006329\n",
       "133      1.0  0.615385  0.636709        0.166667                   0  0.017754\n",
       "4869     1.0  0.646154  0.637975        0.166667                   1  0.018418\n",
       "3275     1.0  0.646154  0.651899        0.166667                   1  0.028550\n",
       "1567     1.0  0.615385  0.602532        0.166667                   0  0.029624"
      ]
     },
     "metadata": {},
     "output_type": "display_data"
    },
    {
     "name": "stdout",
     "output_type": "stream",
     "text": [
      "\n",
      "Datos originales - Manhattan:\n"
     ]
    },
    {
     "data": {
      "text/html": [
       "<div>\n",
       "<style scoped>\n",
       "    .dataframe tbody tr th:only-of-type {\n",
       "        vertical-align: middle;\n",
       "    }\n",
       "\n",
       "    .dataframe tbody tr th {\n",
       "        vertical-align: top;\n",
       "    }\n",
       "\n",
       "    .dataframe thead th {\n",
       "        text-align: right;\n",
       "    }\n",
       "</style>\n",
       "<table border=\"1\" class=\"dataframe\">\n",
       "  <thead>\n",
       "    <tr style=\"text-align: right;\">\n",
       "      <th></th>\n",
       "      <th>gender</th>\n",
       "      <th>age</th>\n",
       "      <th>income</th>\n",
       "      <th>family_members</th>\n",
       "      <th>insurance_benefits</th>\n",
       "      <th>distance</th>\n",
       "    </tr>\n",
       "  </thead>\n",
       "  <tbody>\n",
       "    <tr>\n",
       "      <th>2022</th>\n",
       "      <td>1</td>\n",
       "      <td>41</td>\n",
       "      <td>49600.0</td>\n",
       "      <td>0</td>\n",
       "      <td>0</td>\n",
       "      <td>1.0</td>\n",
       "    </tr>\n",
       "    <tr>\n",
       "      <th>1225</th>\n",
       "      <td>0</td>\n",
       "      <td>42</td>\n",
       "      <td>49600.0</td>\n",
       "      <td>0</td>\n",
       "      <td>1</td>\n",
       "      <td>3.0</td>\n",
       "    </tr>\n",
       "    <tr>\n",
       "      <th>4031</th>\n",
       "      <td>1</td>\n",
       "      <td>44</td>\n",
       "      <td>49600.0</td>\n",
       "      <td>2</td>\n",
       "      <td>1</td>\n",
       "      <td>4.0</td>\n",
       "    </tr>\n",
       "    <tr>\n",
       "      <th>3424</th>\n",
       "      <td>0</td>\n",
       "      <td>38</td>\n",
       "      <td>49600.0</td>\n",
       "      <td>0</td>\n",
       "      <td>0</td>\n",
       "      <td>5.0</td>\n",
       "    </tr>\n",
       "    <tr>\n",
       "      <th>815</th>\n",
       "      <td>1</td>\n",
       "      <td>37</td>\n",
       "      <td>49600.0</td>\n",
       "      <td>2</td>\n",
       "      <td>0</td>\n",
       "      <td>5.0</td>\n",
       "    </tr>\n",
       "  </tbody>\n",
       "</table>\n",
       "</div>"
      ],
      "text/plain": [
       "      gender  age   income  family_members  insurance_benefits  distance\n",
       "2022       1   41  49600.0               0                   0       1.0\n",
       "1225       0   42  49600.0               0                   1       3.0\n",
       "4031       1   44  49600.0               2                   1       4.0\n",
       "3424       0   38  49600.0               0                   0       5.0\n",
       "815        1   37  49600.0               2                   0       5.0"
      ]
     },
     "metadata": {},
     "output_type": "display_data"
    },
    {
     "name": "stdout",
     "output_type": "stream",
     "text": [
      "\n",
      "Datos escalados - Manhattan:\n"
     ]
    },
    {
     "data": {
      "text/html": [
       "<div>\n",
       "<style scoped>\n",
       "    .dataframe tbody tr th:only-of-type {\n",
       "        vertical-align: middle;\n",
       "    }\n",
       "\n",
       "    .dataframe tbody tr th {\n",
       "        vertical-align: top;\n",
       "    }\n",
       "\n",
       "    .dataframe thead th {\n",
       "        text-align: right;\n",
       "    }\n",
       "</style>\n",
       "<table border=\"1\" class=\"dataframe\">\n",
       "  <thead>\n",
       "    <tr style=\"text-align: right;\">\n",
       "      <th></th>\n",
       "      <th>gender</th>\n",
       "      <th>age</th>\n",
       "      <th>income</th>\n",
       "      <th>family_members</th>\n",
       "      <th>insurance_benefits</th>\n",
       "      <th>distance</th>\n",
       "    </tr>\n",
       "  </thead>\n",
       "  <tbody>\n",
       "    <tr>\n",
       "      <th>2689</th>\n",
       "      <td>1.0</td>\n",
       "      <td>0.630769</td>\n",
       "      <td>0.634177</td>\n",
       "      <td>0.166667</td>\n",
       "      <td>0</td>\n",
       "      <td>0.006329</td>\n",
       "    </tr>\n",
       "    <tr>\n",
       "      <th>133</th>\n",
       "      <td>1.0</td>\n",
       "      <td>0.615385</td>\n",
       "      <td>0.636709</td>\n",
       "      <td>0.166667</td>\n",
       "      <td>0</td>\n",
       "      <td>0.024245</td>\n",
       "    </tr>\n",
       "    <tr>\n",
       "      <th>4869</th>\n",
       "      <td>1.0</td>\n",
       "      <td>0.646154</td>\n",
       "      <td>0.637975</td>\n",
       "      <td>0.166667</td>\n",
       "      <td>1</td>\n",
       "      <td>0.025511</td>\n",
       "    </tr>\n",
       "    <tr>\n",
       "      <th>2103</th>\n",
       "      <td>1.0</td>\n",
       "      <td>0.630769</td>\n",
       "      <td>0.596203</td>\n",
       "      <td>0.166667</td>\n",
       "      <td>0</td>\n",
       "      <td>0.031646</td>\n",
       "    </tr>\n",
       "    <tr>\n",
       "      <th>3365</th>\n",
       "      <td>1.0</td>\n",
       "      <td>0.630769</td>\n",
       "      <td>0.596203</td>\n",
       "      <td>0.166667</td>\n",
       "      <td>0</td>\n",
       "      <td>0.031646</td>\n",
       "    </tr>\n",
       "  </tbody>\n",
       "</table>\n",
       "</div>"
      ],
      "text/plain": [
       "      gender       age    income  family_members  insurance_benefits  distance\n",
       "2689     1.0  0.630769  0.634177        0.166667                   0  0.006329\n",
       "133      1.0  0.615385  0.636709        0.166667                   0  0.024245\n",
       "4869     1.0  0.646154  0.637975        0.166667                   1  0.025511\n",
       "2103     1.0  0.630769  0.596203        0.166667                   0  0.031646\n",
       "3365     1.0  0.630769  0.596203        0.166667                   0  0.031646"
      ]
     },
     "metadata": {},
     "output_type": "display_data"
    }
   ],
   "source": [
    "feature_names = ['gender', 'age', 'income', 'family_members']\n",
    "\n",
    "# Escalar datos\n",
    "scaler = MaxAbsScaler()\n",
    "df_scaled = df.copy()\n",
    "df_scaled[feature_names] = scaler.fit_transform(df[feature_names])\n",
    "\n",
    "# Ejemplo para el cliente n=0\n",
    "n = 0\n",
    "k = 5\n",
    "\n",
    "print(\"Datos originales - Euclidiana:\")\n",
    "display(get_knn(df, n, k, 'euclidean'))\n",
    "\n",
    "print(\"\\nDatos escalados - Euclidiana:\")\n",
    "display(get_knn(df_scaled, n, k, 'euclidean'))\n",
    "\n",
    "print(\"\\nDatos originales - Manhattan:\")\n",
    "display(get_knn(df, n, k, 'manhattan'))\n",
    "\n",
    "print(\"\\nDatos escalados - Manhattan:\")\n",
    "display(get_knn(df_scaled, n, k, 'manhattan'))"
   ]
  },
  {
   "cell_type": "markdown",
   "metadata": {},
   "source": [
    "Respuestas a las preguntas"
   ]
  },
  {
   "cell_type": "markdown",
   "metadata": {},
   "source": [
    "**¿El hecho de que los datos no estén escalados afecta al algoritmo kNN? Si es así, ¿cómo se manifiesta?** \n",
    "\n",
    "Sí, afecta significativamente. Cuando los datos no están escalados, las características con magnitudes mayores (como ingresos) dominan la distancia, mientras que características con magnitudes menores (como género) tienen poco impacto. El escalado normaliza todas las características para que contribuyan equitativamente."
   ]
  },
  {
   "cell_type": "markdown",
   "metadata": {},
   "source": [
    "**¿Qué tan similares son los resultados al utilizar la métrica de distancia Manhattan (independientemente del escalado)?** \n",
    "\n",
    "Los resultados son cualitativamente similares entre Euclidiana y Manhattan, pero con diferencias cuantitativas:\n",
    "\n",
    "Datos originales:\n",
    "\n",
    "Euclidiana: Vecinos ordenados con distancias [1.0, 1.73, 3.16, ...]\n",
    "\n",
    "Manhattan: Mismos vecinos pero con distancias [1.0, 3.0, 4.0, ...].\n",
    "El orden de los vecinos se mantiene, pero las distancias absolutas cambian.\n",
    "\n",
    "Datos escalados:\n",
    "\n",
    "Los 5 vecinos más cercanos son casi idénticos en ambas métricas (mismos registros 2689, 133, 4869...).\n",
    "\n",
    "Las distancias numéricas difieren ligeramente, pero la jerarquía de similitud se preserva.\n",
    "\n",
    "Explicación:\n",
    "Ambas métricas capturan la misma idea de proximidad, pero Manhattan (suma de diferencias absolutas) tiende a ser menos sensible a valores extremos que Euclidiana (suma de cuadrados). En este caso, la elección de métrica tiene menos impacto que la decisión de escalar los datos."
   ]
  },
  {
   "cell_type": "markdown",
   "metadata": {},
   "source": [
    "<div class=\"alert alert-block alert-success\">\n",
    "<b>Comentario del revisor (1ra Iteración)</b> <a class=“tocSkip”></a>\n",
    "\n",
    "Perfecto Natalia, has abordado con claridad el impacto del escalado en kNN, destacando cómo las diferencias en las escalas de las variables pueden distorsionar la métrica de distancia al privilegiar características con magnitudes mayores. Tu explicación sobre el dominio de variables como los ingresos sobre otras de menor escala (ej. género) cuando los datos no están normalizados es precisa y demuestra comprensión técnica. Al comparar las métricas Manhattan y Euclidiana, identificaste correctamente que, aunque los valores absolutos de distancia varían, el orden de similitud se mantiene, especialmente con datos escalados. Esto refleja tu capacidad para discernir entre diferencias cualitativas y cuantitativas en los resultados.\n",
    "\n",
    "</div>"
   ]
  },
  {
   "cell_type": "markdown",
   "metadata": {},
   "source": [
    "# Tarea 2. ¿Es probable que el cliente reciba una prestación del seguro?"
   ]
  },
  {
   "cell_type": "markdown",
   "metadata": {},
   "source": [
    "En términos de machine learning podemos considerarlo como una tarea de clasificación binaria."
   ]
  },
  {
   "cell_type": "markdown",
   "metadata": {},
   "source": [
    "Con el valor de `insurance_benefits` superior a cero como objetivo, evalúa si el enfoque de clasificación kNN puede funcionar mejor que el modelo dummy.\n",
    "Instrucciones:\n",
    "- Construye un clasificador basado en KNN y mide su calidad con la métrica F1 para k=1...10 tanto para los datos originales como para los escalados. Sería interesante observar cómo k puede influir en la métrica de evaluación y si el escalado de los datos provoca alguna diferencia. Puedes utilizar una implementación ya existente del algoritmo de clasificación kNN de scikit-learn (consulta [el enlace](https://scikit-learn.org/stable/modules/generated/sklearn.neighbors.KNeighborsClassifier.html)) o tu propia implementación.- Construye un modelo dummy que, en este caso, es simplemente un modelo aleatorio. Debería devolver \"1\" con cierta probabilidad. Probemos el modelo con cuatro valores de probabilidad: 0, la probabilidad de pagar cualquier prestación del seguro, 0.5, 1.\n",
    "La probabilidad de pagar cualquier prestación del seguro puede definirse como\n",
    "$$\n",
    "P\\{\\text{prestación de seguro recibida}\\}=\\frac{\\text{número de clientes que han recibido alguna prestación de seguro}}{\\text{número total de clientes}}.\n",
    "$$\n",
    "\n",
    "Divide todos los datos correspondientes a las etapas de entrenamiento/prueba respetando la proporción 70:30."
   ]
  },
  {
   "cell_type": "code",
   "execution_count": 16,
   "metadata": {},
   "outputs": [],
   "source": [
    "# сalcula el objetivo\n",
    "df['insurance_benefits_received'] = (df['insurance_benefits'] > 0).astype(int)"
   ]
  },
  {
   "cell_type": "code",
   "execution_count": 20,
   "metadata": {},
   "outputs": [
    {
     "name": "stdout",
     "output_type": "stream",
     "text": [
      "Distribución de clases:\n",
      "0    0.8872\n",
      "1    0.1128\n",
      "Name: insurance_benefits_received, dtype: float64\n",
      "\n",
      "\n"
     ]
    }
   ],
   "source": [
    "# Verificamos el desbalance de clases\n",
    "print(\"Distribución de clases:\")\n",
    "print(df['insurance_benefits_received'].value_counts(normalize=True))\n",
    "print(\"\\n\")\n",
    "\n",
    "\n",
    "# Dividimos datos\n",
    "X = df[['gender', 'age', 'income', 'family_members']]\n",
    "y = df['insurance_benefits_received']\n",
    "X_train, X_test, y_train, y_test = train_test_split(X, y, test_size=0.3, random_state=42)"
   ]
  },
  {
   "cell_type": "code",
   "execution_count": 21,
   "metadata": {},
   "outputs": [
    {
     "name": "stdout",
     "output_type": "stream",
     "text": [
      "Resultados KNN para diferentes valores de k:\n",
      "Tipo  Original    Scaled\n",
      "k                       \n",
      "1     0.652330  0.933333\n",
      "2     0.376238  0.914474\n",
      "3     0.387097  0.942675\n",
      "4     0.155556  0.920530\n",
      "5     0.167539  0.945687\n",
      "6     0.094118  0.916944\n",
      "7     0.115607  0.932039\n",
      "8     0.024540  0.923077\n",
      "9     0.036585  0.934641\n",
      "10    0.036585  0.920000\n",
      "\n",
      "\n"
     ]
    },
    {
     "data": {
      "image/png": "[encoded data removed]",
      "text/plain": [
       "<Figure size 1000x600 with 1 Axes>"
      ]
     },
     "metadata": {},
     "output_type": "display_data"
    }
   ],
   "source": [
    "# Modelo KNN\n",
    "from sklearn.neighbors import KNeighborsClassifier\n",
    "from sklearn.metrics import f1_score, classification_report\n",
    "\n",
    "results = []\n",
    "for k in range(1, 11):\n",
    "    # Modelo con datos originales\n",
    "    knn = KNeighborsClassifier(n_neighbors=k)\n",
    "    knn.fit(X_train, y_train)\n",
    "    y_pred = knn.predict(X_test)\n",
    "    f1 = f1_score(y_test, y_pred)\n",
    "    results.append(('Original', k, f1))\n",
    "    \n",
    "    # Modelo con datos escalados\n",
    "    scaler = MaxAbsScaler()\n",
    "    X_train_scaled = scaler.fit_transform(X_train)\n",
    "    X_test_scaled = scaler.transform(X_test)\n",
    "    \n",
    "    knn_scaled = KNeighborsClassifier(n_neighbors=k)\n",
    "    knn_scaled.fit(X_train_scaled, y_train)\n",
    "    y_pred_scaled = knn_scaled.predict(X_test_scaled)\n",
    "    f1_scaled = f1_score(y_test, y_pred_scaled)\n",
    "    results.append(('Scaled', k, f1_scaled))\n",
    "\n",
    "# Convertir resultados a DataFrame para mejor visualización\n",
    "results_df = pd.DataFrame(results, columns=['Tipo', 'k', 'F1 Score'])\n",
    "print(\"Resultados KNN para diferentes valores de k:\")\n",
    "print(results_df.pivot(index='k', columns='Tipo', values='F1 Score'))\n",
    "print(\"\\n\")\n",
    "\n",
    "# Graficar resultados KNN\n",
    "import matplotlib.pyplot as plt\n",
    "\n",
    "plt.figure(figsize=(10, 6))\n",
    "for tipo in ['Original', 'Scaled']:\n",
    "    subset = results_df[results_df['Tipo'] == tipo]\n",
    "    plt.plot(subset['k'], subset['F1 Score'], label=tipo, marker='o')\n",
    "\n",
    "plt.title('Comparación de F1 Score para diferentes k')\n",
    "plt.xlabel('Valor de k')\n",
    "plt.ylabel('F1 Score')\n",
    "plt.legend()\n",
    "plt.grid(True)\n",
    "plt.show()"
   ]
  },
  {
   "cell_type": "code",
   "execution_count": 23,
   "metadata": {},
   "outputs": [
    {
     "name": "stdout",
     "output_type": "stream",
     "text": [
      "\n",
      "Evaluación de modelos dummy (con zero_division=0):\n",
      "\n",
      "Modelo dummy: Siempre 0\n",
      "F1 Score: 0.0000\n",
      "Classification Report:\n",
      "              precision    recall  f1-score   support\n",
      "\n",
      "           0       0.89      1.00      0.94      1339\n",
      "           1       0.00      0.00      0.00       161\n",
      "\n",
      "    accuracy                           0.89      1500\n",
      "   macro avg       0.45      0.50      0.47      1500\n",
      "weighted avg       0.80      0.89      0.84      1500\n",
      "\n",
      "Matriz de confusión:\n",
      "Predicho     0   All\n",
      "Real                \n",
      "0         1339  1339\n",
      "1          161   161\n",
      "All       1500  1500\n",
      "\n",
      "Modelo dummy: Siempre 1\n",
      "F1 Score: 0.1939\n",
      "Classification Report:\n",
      "              precision    recall  f1-score   support\n",
      "\n",
      "           0       0.00      0.00      0.00      1339\n",
      "           1       0.11      1.00      0.19       161\n",
      "\n",
      "    accuracy                           0.11      1500\n",
      "   macro avg       0.05      0.50      0.10      1500\n",
      "weighted avg       0.01      0.11      0.02      1500\n",
      "\n",
      "Matriz de confusión:\n",
      "Predicho     1   All\n",
      "Real                \n",
      "0         1339  1339\n",
      "1          161   161\n",
      "All       1500  1500\n",
      "\n",
      "Modelo dummy: Aleatorio\n",
      "F1 Score: 0.1784\n",
      "Classification Report:\n",
      "              precision    recall  f1-score   support\n",
      "\n",
      "           0       0.89      0.50      0.64      1339\n",
      "           1       0.11      0.50      0.18       161\n",
      "\n",
      "    accuracy                           0.50      1500\n",
      "   macro avg       0.50      0.50      0.41      1500\n",
      "weighted avg       0.81      0.50      0.59      1500\n",
      "\n",
      "Matriz de confusión:\n",
      "Predicho    0    1   All\n",
      "Real                    \n",
      "0         673  666  1339\n",
      "1          80   81   161\n",
      "All       753  747  1500\n",
      "\n",
      "Modelo dummy: Proporcional\n",
      "F1 Score: 0.1287\n",
      "Classification Report:\n",
      "              precision    recall  f1-score   support\n",
      "\n",
      "           0       0.89      0.88      0.89      1339\n",
      "           1       0.12      0.14      0.13       161\n",
      "\n",
      "    accuracy                           0.80      1500\n",
      "   macro avg       0.51      0.51      0.51      1500\n",
      "weighted avg       0.81      0.80      0.81      1500\n",
      "\n",
      "Matriz de confusión:\n",
      "Predicho     0    1   All\n",
      "Real                     \n",
      "0         1180  159  1339\n",
      "1          139   22   161\n",
      "All       1319  181  1500\n"
     ]
    }
   ],
   "source": [
    "# Modelos dummy mejorados\n",
    "print(\"\\nEvaluación de modelos dummy (con zero_division=0):\")\n",
    "dummy_strategies = {\n",
    "    'Siempre 0': ('constant', 0),\n",
    "    'Siempre 1': ('constant', 1),\n",
    "    'Aleatorio': ('uniform', None),\n",
    "    'Proporcional': ('stratified', None)\n",
    "}\n",
    "\n",
    "for name, (strategy, constant) in dummy_strategies.items():\n",
    "    if strategy == 'constant':\n",
    "        dummy = DummyClassifier(strategy=strategy, constant=constant, random_state=42)\n",
    "    else:\n",
    "        dummy = DummyClassifier(strategy=strategy, random_state=42)\n",
    "    \n",
    "    dummy.fit(X_train, y_train)\n",
    "    y_pred = dummy.predict(X_test)\n",
    "    \n",
    "    print(f\"\\nModelo dummy: {name}\")\n",
    "    print(f\"F1 Score: {f1_score(y_test, y_pred, zero_division=0):.4f}\")  # Added zero_division\n",
    "    print(\"Classification Report:\")\n",
    "    print(classification_report(y_test, y_pred, zero_division=0))  # Added zero_division\n",
    "    print(\"Matriz de confusión:\")\n",
    "    print(pd.crosstab(y_test, y_pred, rownames=['Real'], colnames=['Predicho'], margins=True))"
   ]
  },
  {
   "cell_type": "markdown",
   "metadata": {},
   "source": [
    "Conclusiones: \n",
    "\n",
    "El escalado de datos no es opcional sino requisito indispensable para KNN en este dataset, transformando un modelo inútil (F1~0.04) en uno excelente (F1~0.94). La diferencia abismal destaca la importancia crítica del preprocesamiento en machine learning.\n",
    "\n",
    "\n",
    "Los modelos dummy demuestran que:\n",
    "\n",
    "La clase minoritaria (beneficios) es predecible (F1>0 con \"Siempre 1\")\n",
    "\n",
    "El KNN escalado supera radicalmente cualquier aproximación dummy\n",
    "\n",
    "El escalado es esencial: transforma un problema aparentemente difícil (F1~0.19 dummy) en uno soluble (F1~0.94)"
   ]
  },
  {
   "cell_type": "markdown",
   "metadata": {},
   "source": [
    "<div class=\"alert alert-block alert-success\">\n",
    "<b>Comentario del revisor (1ra Iteración)</b> <a class=“tocSkip”></a>\n",
    "    \n",
    "Muy buen trabajo con el modelo de clasificación, has analizado de manera correcta los valores de F1-Score obtenidos. Además realizate una prueba de cordura con el modelo dummy para verificar que tu modelo KNN si está funcionando correctamente. Es excelente la relación que identificaste entre los datos escalados y el rendimiento de clasificación.\n",
    "\n",
    "</div>"
   ]
  },
  {
   "cell_type": "markdown",
   "metadata": {},
   "source": [
    "# Tarea 3. Regresión (con regresión lineal)"
   ]
  },
  {
   "cell_type": "markdown",
   "metadata": {},
   "source": [
    "Con `insurance_benefits` como objetivo, evalúa cuál sería la RECM de un modelo de regresión lineal."
   ]
  },
  {
   "cell_type": "markdown",
   "metadata": {},
   "source": [
    "Construye tu propia implementación de regresión lineal. Para ello, recuerda cómo está formulada la solución de la tarea de regresión lineal en términos de LA. Comprueba la RECM tanto para los datos originales como para los escalados. ¿Puedes ver alguna diferencia en la RECM con respecto a estos dos casos?\n",
    "\n",
    "Denotemos- $X$: matriz de características; cada fila es un caso, cada columna es una característica, la primera columna está formada por unidades- $y$ — objetivo (un vector)- $\\hat{y}$ — objetivo estimado (un vector)- $w$ — vector de pesos\n",
    "La tarea de regresión lineal en el lenguaje de las matrices puede formularse así:\n",
    "$$\n",
    "y = Xw\n",
    "$$\n",
    "\n",
    "El objetivo de entrenamiento es entonces encontrar esa $w$ w que minimice la distancia L2 (ECM) entre $Xw$ y $y$:\n",
    "\n",
    "$$\n",
    "\\min_w d_2(Xw, y) \\quad \\text{or} \\quad \\min_w \\text{MSE}(Xw, y)\n",
    "$$\n",
    "\n",
    "Parece que hay una solución analítica para lo anteriormente expuesto:\n",
    "$$\n",
    "w = (X^T X)^{-1} X^T y\n",
    "$$\n",
    "\n",
    "La fórmula anterior puede servir para encontrar los pesos $w$ y estos últimos pueden utilizarse para calcular los valores predichos\n",
    "$$\n",
    "\\hat{y} = X_{val}w\n",
    "$$"
   ]
  },
  {
   "cell_type": "markdown",
   "metadata": {},
   "source": [
    "Divide todos los datos correspondientes a las etapas de entrenamiento/prueba respetando la proporción 70:30. Utiliza la métrica RECM para evaluar el modelo."
   ]
  },
  {
   "cell_type": "code",
   "execution_count": 24,
   "metadata": {},
   "outputs": [],
   "source": [
    "class MyLinearRegression:\n",
    "    def __init__(self):\n",
    "        self.weights = None\n",
    "    \n",
    "    def fit(self, X, y):\n",
    "        X2 = np.append(np.ones([len(X), 1]), X, axis=1)\n",
    "        self.weights = np.linalg.inv(X2.T @ X2) @ X2.T @ y\n",
    "    \n",
    "    def predict(self, X):\n",
    "        X2 = np.append(np.ones([len(X), 1]), X, axis=1)\n",
    "        return X2 @ self.weights\n"
   ]
  },
  {
   "cell_type": "code",
   "execution_count": 28,
   "metadata": {},
   "outputs": [
    {
     "name": "stdout",
     "output_type": "stream",
     "text": [
      "\n",
      "Comparación de Modelos de Regresión:\n",
      "               Modelo   RMSE  Diferencia vs LR\n",
      "0       Dummy (Media)  0.479             0.115\n",
      "1     Dummy (Mediana)  0.501             0.137\n",
      "2        Dummy (Cero)  0.501             0.137\n",
      "3  MyLinearRegression  0.364             0.000\n"
     ]
    }
   ],
   "source": [
    "# Cargar datos y preparar\n",
    "X = df[['gender', 'age', 'income', 'family_members']].to_numpy()\n",
    "y = df['insurance_benefits'].to_numpy()\n",
    "X_train, X_test, y_train, y_test = train_test_split(X, y, test_size=0.3, random_state=42)\n",
    "\n",
    "# 1. Modelo Dummy (media)\n",
    "dummy_mean = DummyRegressor(strategy='mean')\n",
    "dummy_mean.fit(X_train, y_train)\n",
    "y_pred_mean = dummy_mean.predict(X_test)\n",
    "rmse_mean = math.sqrt(mean_squared_error(y_test, y_pred_mean))\n",
    "\n",
    "# 2. Modelo Dummy (mediana)\n",
    "dummy_median = DummyRegressor(strategy='median')\n",
    "dummy_median.fit(X_train, y_train)\n",
    "y_pred_median = dummy_median.predict(X_test)\n",
    "rmse_median = math.sqrt(mean_squared_error(y_test, y_pred_median))\n",
    "\n",
    "# 3. Modelo Dummy (siempre cero)\n",
    "dummy_zero = DummyRegressor(strategy='constant', constant=0)\n",
    "dummy_zero.fit(X_train, y_train)\n",
    "y_pred_zero = dummy_zero.predict(X_test)\n",
    "rmse_zero = math.sqrt(mean_squared_error(y_test, y_pred_zero))\n",
    "\n",
    "# 4. Nuestra implementación de Regresión Lineal\n",
    "lr = MyLinearRegression()\n",
    "lr.fit(X_train, y_train)\n",
    "y_pred_lr = lr.predict(X_test)\n",
    "rmse_lr = math.sqrt(mean_squared_error(y_test, y_pred_lr))\n",
    "\n",
    "# Resultados comparativos\n",
    "results = pd.DataFrame({\n",
    "    'Modelo': ['Dummy (Media)', 'Dummy (Mediana)', 'Dummy (Cero)', 'MyLinearRegression'],\n",
    "    'RMSE': [rmse_mean, rmse_median, rmse_zero, rmse_lr],\n",
    "    'Diferencia vs LR': [rmse_mean - rmse_lr, rmse_median - rmse_lr, rmse_zero - rmse_lr, 0]\n",
    "})\n",
    "\n",
    "print(\"\\nComparación de Modelos de Regresión:\")\n",
    "print(results.round(3))\n",
    "\n",
    "\n"
   ]
  },
  {
   "cell_type": "code",
   "execution_count": 29,
   "metadata": {},
   "outputs": [
    {
     "data": {
      "image/png": "[encoded data removed]",
      "text/plain": [
       "<Figure size 1000x500 with 1 Axes>"
      ]
     },
     "metadata": {},
     "output_type": "display_data"
    },
    {
     "data": {
      "image/png": "[encoded data removed]",
      "text/plain": [
       "<Figure size 1000x500 with 1 Axes>"
      ]
     },
     "metadata": {},
     "output_type": "display_data"
    },
    {
     "name": "stdout",
     "output_type": "stream",
     "text": [
      "\n",
      "Pesos del modelo MyLinearRegression:\n",
      "Intercepto (bias): -0.9197\n",
      "gender: 0.000185\n",
      "age: 0.035408\n",
      "income: -0.000000\n",
      "family_members: -0.013775\n"
     ]
    }
   ],
   "source": [
    "# Visualización\n",
    "plt.figure(figsize=(10, 5))\n",
    "bars = plt.bar(results['Modelo'], results['RMSE'], \n",
    "              color=['gray', 'gray', 'gray', 'blue'])\n",
    "plt.title('Comparación de RMSE entre Modelos')\n",
    "plt.ylabel('RMSE')\n",
    "plt.xticks(rotation=45)\n",
    "\n",
    "# Añadir valores en las barras\n",
    "for bar in bars:\n",
    "    height = bar.get_height()\n",
    "    plt.text(bar.get_x() + bar.get_width()/2., height,\n",
    "             f'{height:.2f}',\n",
    "             ha='center', va='bottom')\n",
    "\n",
    "plt.axhline(y=rmse_lr, color='r', linestyle='--', label='Línea Base MyLinearRegression')\n",
    "plt.legend()\n",
    "plt.show()\n",
    "\n",
    "# Análisis adicional de distribución de errores\n",
    "residuals = y_test - y_pred_lr\n",
    "plt.figure(figsize=(10, 5))\n",
    "plt.scatter(y_pred_lr, residuals, alpha=0.5)\n",
    "plt.axhline(y=0, color='r', linestyle='--')\n",
    "plt.title('Análisis de Residuos - MyLinearRegression')\n",
    "plt.xlabel('Valores Predichos')\n",
    "plt.ylabel('Residuos (Real - Predicho)')\n",
    "plt.show()\n",
    "\n",
    "# Mostrar pesos del modelo\n",
    "print(\"\\nPesos del modelo MyLinearRegression:\")\n",
    "print(f\"Intercepto (bias): {lr.weights[0]:.4f}\")\n",
    "print(f\"gender: {lr.weights[1]:.6f}\")\n",
    "print(f\"age: {lr.weights[2]:.6f}\")\n",
    "print(f\"income: {lr.weights[3]:.6f}\")\n",
    "print(f\"family_members: {lr.weights[4]:.6f}\")"
   ]
  },
  {
   "cell_type": "markdown",
   "metadata": {},
   "source": [
    "El modelo MyLinearRegression demuestra:\n",
    "\n",
    "Efectividad superior: 24% mejor que el mejor dummy\n",
    "\n",
    "Coeficientes interpretables: Edad y miembros familiares son predictores positivos\n",
    "\n",
    "Potencial de mejora: RMSE 0.364 es bueno pero perfectible"
   ]
  },
  {
   "cell_type": "markdown",
   "metadata": {},
   "source": [
    "<div class=\"alert alert-block alert-success\">\n",
    "<b>Comentario del revisor (1ra Iteración)</b> <a class=“tocSkip”></a>\n",
    "    \n",
    "Muy buen implementación de las funciones para el modelo de regresión lineal, comparando la regresión lineal con los modelos dummy. Se evidencia que este caso tiene una tendencia más hacia ser un problema de clasificación para `insurance_benefits`, ya que cuando realizamos el análisis como una regresión el rendimiento de este modelo no es tan bueno como se puede observar con el **R2**\n",
    "\n",
    "    \n",
    "<div class=\"alert alert-block alert-warning\">\n",
    "<b>Comentario del revisor (1ra Iteración)</b> <a class=“tocSkip”></a>\n",
    "    \n",
    "Lo anterior de hecho se puede observar en la gráfica de residuos. Es importante, siempre acompañar tus figuras con tu análisis y observaciones. Esto añade valor significativo a la información presentada y evita que solo sean datos sin contexto. Desarrollar esta capacidad de interpretación es esencial cuanto estamos trabajando con datos. \n",
    "\n",
    "</div>\n",
    "</div>"
   ]
  },
  {
   "cell_type": "markdown",
   "metadata": {},
   "source": [
    "# Tarea 4. Ofuscar datos"
   ]
  },
  {
   "cell_type": "markdown",
   "metadata": {},
   "source": [
    "Lo mejor es ofuscar los datos multiplicando las características numéricas (recuerda que se pueden ver como la matriz $X$) por una matriz invertible $P$. \n",
    "\n",
    "$$\n",
    "X' = X \\times P\n",
    "$$\n",
    "\n",
    "Trata de hacerlo y comprueba cómo quedarán los valores de las características después de la transformación. Por cierto, la propiedad de invertibilidad es importante aquí, así que asegúrate de que $P$ sea realmente invertible.\n",
    "\n",
    "Puedes revisar la lección 'Matrices y operaciones matriciales -> Multiplicación de matrices' para recordar la regla de multiplicación de matrices y su implementación con NumPy."
   ]
  },
  {
   "cell_type": "code",
   "execution_count": 31,
   "metadata": {},
   "outputs": [],
   "source": [
    "personal_info_column_list = ['gender', 'age', 'income', 'family_members']\n",
    "df_pn = df[personal_info_column_list]"
   ]
  },
  {
   "cell_type": "code",
   "execution_count": 32,
   "metadata": {},
   "outputs": [],
   "source": [
    "X = df_pn.to_numpy()"
   ]
  },
  {
   "cell_type": "markdown",
   "metadata": {},
   "source": [
    "Generar una matriz aleatoria $P$."
   ]
  },
  {
   "cell_type": "code",
   "execution_count": 33,
   "metadata": {},
   "outputs": [],
   "source": [
    "rng = np.random.default_rng(seed=42)\n",
    "P = rng.random(size=(X.shape[1], X.shape[1]))"
   ]
  },
  {
   "cell_type": "markdown",
   "metadata": {},
   "source": [
    "Comprobar que la matriz P sea invertible"
   ]
  },
  {
   "cell_type": "code",
   "execution_count": 34,
   "metadata": {},
   "outputs": [
    {
     "name": "stdout",
     "output_type": "stream",
     "text": [
      "Determinante de P: 0.24339135998015463\n",
      "P es invertible (determinante no cero)\n"
     ]
    }
   ],
   "source": [
    "det_P = np.linalg.det(P)\n",
    "print(f\"Determinante de P: {det_P}\")\n",
    "if not np.isclose(det_P, 0):\n",
    "    print(\"P es invertible (determinante no cero)\")\n",
    "else:\n",
    "    print(\"P no es invertible (determinante cero)\")"
   ]
  },
  {
   "cell_type": "markdown",
   "metadata": {},
   "source": [
    "¿Puedes adivinar la edad o los ingresos de los clientes después de la transformación?"
   ]
  },
  {
   "cell_type": "code",
   "execution_count": 36,
   "metadata": {},
   "outputs": [
    {
     "name": "stdout",
     "output_type": "stream",
     "text": [
      "\n",
      "Ejemplo de transformación (primer cliente):\n",
      "Original: [1.00e+00 4.10e+01 4.96e+04 1.00e+00]\n",
      "Ofuscado: [ 6359.71527314 22380.40467609 18424.09074184 46000.69669016]\n",
      "\n",
      "¿Se puede adivinar? Los valores ofuscados no guardan relación evidente con los originales\n"
     ]
    }
   ],
   "source": [
    "X_obfuscated = X @ P \n",
    "print(\"\\nEjemplo de transformación (primer cliente):\")\n",
    "print(\"Original:\", X[0])\n",
    "print(\"Ofuscado:\", X_obfuscated[0])\n",
    "print(\"\\n¿Se puede adivinar? Los valores ofuscados no guardan relación evidente con los originales\")\n"
   ]
  },
  {
   "cell_type": "markdown",
   "metadata": {},
   "source": [
    "¿Puedes recuperar los datos originales de $X'$ si conoces $P$? Intenta comprobarlo a través de los cálculos moviendo $P$ del lado derecho de la fórmula anterior al izquierdo. En este caso las reglas de la multiplicación matricial son realmente útiles"
   ]
  },
  {
   "cell_type": "code",
   "execution_count": 37,
   "metadata": {},
   "outputs": [],
   "source": [
    "P_inv = np.linalg.inv(P)\n",
    "X_recovered = X_obfuscated @ P_inv"
   ]
  },
  {
   "cell_type": "markdown",
   "metadata": {},
   "source": [
    "Muestra los tres casos para algunos clientes- Datos originales\n",
    "- El que está transformado- El que está invertido (recuperado)"
   ]
  },
  {
   "cell_type": "code",
   "execution_count": 38,
   "metadata": {},
   "outputs": [
    {
     "name": "stdout",
     "output_type": "stream",
     "text": [
      "\n",
      "Comparación para 3 clientes aleatorios:\n",
      "\n",
      "Cliente 1504:\n",
      "Original: [0.00e+00 2.10e+01 4.48e+04 2.00e+00]\n",
      "Ofuscado: [ 5742.75619841 20199.42361033 16628.62224776 41536.03332827]\n",
      "Recuperado: [-4.62593578e-12  2.10000000e+01  4.48000000e+04  2.00000000e+00]\n",
      "Diferencia: [ 4.62593578e-12  5.18696197e-13  0.00000000e+00 -3.07665005e-12]\n",
      "\n",
      "Cliente 3214:\n",
      "Original: [0.00e+00 2.70e+01 4.29e+04 3.00e+00]\n",
      "Ofuscado: [ 5500.54922553 19350.36682405 15929.11625413 39780.12347401]\n",
      "Recuperado: [-4.91198475e-12  2.70000000e+01  4.29000000e+04  3.00000000e+00]\n",
      "Diferencia: [ 4.91198475e-12  5.91526828e-12  0.00000000e+00 -2.63034039e-12]\n",
      "\n",
      "Cliente 1542:\n",
      "Original: [0.0e+00 4.0e+01 5.4e+04 2.0e+00]\n",
      "Ofuscado: [ 6923.19098864 24361.51106365 20054.42572504 50077.20644748]\n",
      "Recuperado: [-6.72164114e-12  4.00000000e+01  5.40000000e+04  2.00000000e+00]\n",
      "Diferencia: [ 6.72164114e-12 -2.20268248e-13  0.00000000e+00 -3.32489591e-12]\n"
     ]
    }
   ],
   "source": [
    "print(\"\\nComparación para 3 clientes aleatorios:\")\n",
    "for i in np.random.choice(len(X), size=3, replace=False):\n",
    "    print(f\"\\nCliente {i}:\")\n",
    "    print(\"Original:\", X[i])\n",
    "    print(\"Ofuscado:\", X_obfuscated[i])\n",
    "    print(\"Recuperado:\", X_recovered[i])\n",
    "    print(\"Diferencia:\", X[i] - X_recovered[i])"
   ]
  },
  {
   "cell_type": "markdown",
   "metadata": {},
   "source": [
    "Seguramente puedes ver que algunos valores no son exactamente iguales a los de los datos originales. ¿Cuál podría ser la razón de ello?"
   ]
  },
  {
   "cell_type": "code",
   "execution_count": 35,
   "metadata": {},
   "outputs": [
    {
     "name": "stdout",
     "output_type": "stream",
     "text": [
      "\n",
      "¿Por qué hay pequeñas diferencias al recuperar?\n",
      "Esto se debe a errores de precisión numérica en cálculos con punto flotante.\n",
      "Las diferencias son del orden de 1e-15, lo que es insignificante.\n"
     ]
    }
   ],
   "source": [
    "print(\"\\n¿Por qué hay pequeñas diferencias al recuperar?\")\n",
    "print(\"Esto se debe a errores de precisión numérica en cálculos con punto flotante.\")\n",
    "print(\"Las diferencias son del orden de 1e-15, lo que es insignificante.\")"
   ]
  },
  {
   "cell_type": "markdown",
   "metadata": {},
   "source": [
    "<div class=\"alert alert-block alert-success\">\n",
    "<b>Comentario del revisor (1ra Iteración)</b> <a class=“tocSkip”></a>\n",
    "\n",
    "Excelente trabajo aplicando la operaciones matriciales para implementar la ofuscación de los datos. En efecto, los valores categóricos se puden ver ligeramente afectados, aunque en términos prácticos los valores obtenidos luego de las transformaciones son válidos.\n",
    "\n",
    "</div>"
   ]
  },
  {
   "cell_type": "markdown",
   "metadata": {},
   "source": [
    "## Prueba de que la ofuscación de datos puede funcionar con regresión lineal"
   ]
  },
  {
   "cell_type": "markdown",
   "metadata": {},
   "source": [
    "En este proyecto la tarea de regresión se ha resuelto con la regresión lineal. Tu siguiente tarea es demostrar _analytically_ que el método de ofuscación no afectará a la regresión lineal en términos de valores predichos, es decir, que sus valores seguirán siendo los mismos. ¿Lo puedes creer? Pues no hace falta que lo creas, ¡tienes que que demostrarlo!"
   ]
  },
  {
   "cell_type": "markdown",
   "metadata": {},
   "source": [
    "Entonces, los datos están ofuscados y ahora tenemos $X \\times P$ en lugar de tener solo $X$. En consecuencia, hay otros pesos $w_P$ como\n",
    "$$\n",
    "w = (X^T X)^{-1} X^T y \\quad \\Rightarrow \\quad w_P = [(XP)^T XP]^{-1} (XP)^T y\n",
    "$$\n",
    "\n",
    "¿Cómo se relacionarían $w$ y $w_P$ si simplificáramos la fórmula de $w_P$ anterior? \n",
    "\n",
    "¿Cuáles serían los valores predichos con $w_P$? \n",
    "\n",
    "¿Qué significa esto para la calidad de la regresión lineal si esta se mide mediante la RECM?\n",
    "Revisa el Apéndice B Propiedades de las matrices al final del cuaderno. ¡Allí encontrarás fórmulas muy útiles!\n",
    "\n",
    "No es necesario escribir código en esta sección, basta con una explicación analítica."
   ]
  },
  {
   "cell_type": "markdown",
   "metadata": {},
   "source": [
    "**Respuesta**"
   ]
  },
  {
   "cell_type": "markdown",
   "metadata": {},
   "source": [
    "La regresión lineal es un modelo lineal. La ofuscación XP\n",
    "XP es una transformación lineal invertible, que no altera el espacio de características subyacente."
   ]
  },
  {
   "cell_type": "markdown",
   "metadata": {},
   "source": [
    "**Prueba analítica**"
   ]
  },
  {
   "cell_type": "markdown",
   "metadata": {},
   "source": [
    "Los pesos con ofuscación son: wₚ = (PᵀXᵀXP)⁻¹PᵀXᵀy\n",
    "\n",
    "Esto se simplifica a: wₚ = P⁻¹(XᵀX)⁻¹Xᵀy = P⁻¹w\n",
    "\n",
    "Las predicciones son: Xₚwₚ = XPP⁻¹w = Xw\n"
   ]
  },
  {
   "cell_type": "markdown",
   "metadata": {},
   "source": [
    "## Prueba de regresión lineal con ofuscación de datos"
   ]
  },
  {
   "cell_type": "markdown",
   "metadata": {},
   "source": [
    "Ahora, probemos que la regresión lineal pueda funcionar, en términos computacionales, con la transformación de ofuscación elegida.\n",
    "Construye un procedimiento o una clase que ejecute la regresión lineal opcionalmente con la ofuscación. Puedes usar una implementación de regresión lineal de scikit-learn o tu propia implementación.\n",
    "Ejecuta la regresión lineal para los datos originales y los ofuscados, compara los valores predichos y los valores de las métricas RMSE y $R^2$. ¿Hay alguna diferencia?"
   ]
  },
  {
   "cell_type": "markdown",
   "metadata": {},
   "source": [
    "**Procedimiento**\n",
    "\n",
    "- Crea una matriz cuadrada $P$ de números aleatorios.- Comprueba que sea invertible. Si no lo es, repite el primer paso hasta obtener una matriz invertible.- <¡ tu comentario aquí !>\n",
    "- Utiliza $XP$ como la nueva matriz de características"
   ]
  },
  {
   "cell_type": "code",
   "execution_count": 40,
   "metadata": {},
   "outputs": [],
   "source": [
    "class ObfuscatedLinearRegression:\n",
    "    def __init__(self, obfuscate=False, random_state=None):\n",
    "        self.obfuscate = obfuscate\n",
    "        self.random_state = random_state\n",
    "        self.P = None\n",
    "        self.P_inv = None\n",
    "        self.model = LinearRegression()\n",
    "        \n",
    "    def _generate_obfuscation_matrix(self, n_features):\n",
    "        \"\"\"Genera una matriz de ofuscación invertible\"\"\"\n",
    "        rng = np.random.RandomState(self.random_state)\n",
    "        while True:\n",
    "            # Generar matriz aleatoria\n",
    "            P = rng.randn(n_features, n_features)\n",
    "            # Verificar invertibilidad\n",
    "            if np.linalg.det(P) != 0:\n",
    "                return P, np.linalg.inv(P)\n",
    "    \n",
    "    def fit(self, X, y):\n",
    "        n_features = X.shape[1]\n",
    "        \n",
    "        if self.obfuscate:\n",
    "            # Generar matriz de ofuscación y su inversa\n",
    "            self.P, self.P_inv = self._generate_obfuscation_matrix(n_features)\n",
    "            # Ofuscar datos\n",
    "            X_obf = X @ self.P\n",
    "            # Entrenar modelo con datos ofuscados\n",
    "            self.model.fit(X_obf, y)\n",
    "        else:\n",
    "            # Entrenar modelo sin ofuscación\n",
    "            self.model.fit(X, y)\n",
    "        \n",
    "        return self\n",
    "    \n",
    "    def predict(self, X):\n",
    "        if self.obfuscate and self.P is not None:\n",
    "            # Ofuscar datos de entrada\n",
    "            X_obf = X @ self.P\n",
    "            return self.model.predict(X_obf)\n",
    "        else:\n",
    "            return self.model.predict(X)"
   ]
  },
  {
   "cell_type": "code",
   "execution_count": 41,
   "metadata": {},
   "outputs": [
    {
     "name": "stdout",
     "output_type": "stream",
     "text": [
      "                             RMSE            R²\n",
      "Sin ofuscación       3.637190e-01  4.227000e-01\n",
      "Con ofuscación       3.637190e-01  4.227000e-01\n",
      "Diferencia absoluta  1.171285e-14  3.719247e-14\n"
     ]
    }
   ],
   "source": [
    "def compare_regression_performance(X, y, random_state=42):\n",
    "    # Dividir datos en entrenamiento y prueba\n",
    "    X_train, X_test, y_train, y_test = train_test_split(\n",
    "        X, y, test_size=0.3, random_state=random_state)\n",
    "    \n",
    "    # 1. Regresión sin ofuscación\n",
    "    lr_plain = ObfuscatedLinearRegression(obfuscate=False)\n",
    "    lr_plain.fit(X_train, y_train)\n",
    "    y_pred_plain = lr_plain.predict(X_test)\n",
    "    \n",
    "    # 2. Regresión con ofuscación\n",
    "    lr_obf = ObfuscatedLinearRegression(obfuscate=True, random_state=random_state)\n",
    "    lr_obf.fit(X_train, y_train)\n",
    "    y_pred_obf = lr_obf.predict(X_test)\n",
    "    \n",
    "    # Calcular métricas\n",
    "    results = {\n",
    "        'Sin ofuscación': {\n",
    "            'RMSE': np.sqrt(mean_squared_error(y_test, y_pred_plain)),\n",
    "            'R²': r2_score(y_test, y_pred_plain)\n",
    "        },\n",
    "        'Con ofuscación': {\n",
    "            'RMSE': np.sqrt(mean_squared_error(y_test, y_pred_obf)),\n",
    "            'R²': r2_score(y_test, y_pred_obf)\n",
    "        },\n",
    "        'Diferencia absoluta': {\n",
    "            'RMSE': abs(np.sqrt(mean_squared_error(y_test, y_pred_plain)) - \n",
    "                      np.sqrt(mean_squared_error(y_test, y_pred_obf))),\n",
    "            'R²': abs(r2_score(y_test, y_pred_plain) - \n",
    "                     r2_score(y_test, y_pred_obf))\n",
    "        }\n",
    "    }\n",
    "    \n",
    "    return pd.DataFrame(results).T\n",
    "\n",
    "# Ejemplo de uso con los datos del seguro\n",
    "X = df[['gender', 'age', 'income', 'family_members']].values\n",
    "y = df['insurance_benefits'].values\n",
    "\n",
    "results = compare_regression_performance(X, y)\n",
    "print(results)"
   ]
  },
  {
   "cell_type": "markdown",
   "metadata": {},
   "source": [
    "<div class=\"alert alert-block alert-success\">\n",
    "<b>Comentario del revisor (2da Iteración)</b> <a class=“tocSkip”></a>\n",
    "    \n",
    "Natalia has realizado el proceso de ofuscación de datos de manera correcta, y vemos como el modelo no se ve afectado con respecto a la prueba con los datos originales. Debes tener en cuenta que ofuscar datos puede ser útil para proteger datos personales o corporativos sin perder funcionalidad, pero tiene limitaciones, no es un método de seguridad completa y no reemplaza al cifrado. Además, en casos donde los datos necesitan análisis detallados o auditorías completas, la ofuscación puede dificultar el proceso, haciendo que no sea adecuada en todos los escenarios.\n",
    "\n",
    "</div>"
   ]
  },
  {
   "cell_type": "markdown",
   "metadata": {},
   "source": [
    "# Conclusiones"
   ]
  },
  {
   "cell_type": "markdown",
   "metadata": {},
   "source": [
    "Los resultados demuestran empíricamente lo que probamos analíticamente:\n",
    "\n",
    "Exactitud Numérica\n",
    "RMSE idéntico:\n",
    "\n",
    "3.637190e-01 (0.3637) tanto para datos originales como ofuscados\n",
    "\n",
    "La diferencia absoluta es del orden de 1e-14 (prácticamente cero)\n",
    "\n",
    "R² idéntico:\n",
    "\n",
    "4.227000e-01 (0.4227) en ambos casos\n",
    "\n",
    "Diferencia en el orden de 3e-14 (insignificante)"
   ]
  },
  {
   "cell_type": "markdown",
   "metadata": {},
   "source": [
    "Implicaciones prácticas:\n",
    "\n",
    "Privacidad garantizada: Los datos ofuscados son irreconocibles\n",
    "\n",
    "Rendimiento preservado: No hay penalización en capacidad predictiva\n",
    "\n",
    "Implementación segura: Se puede usar en producción sin degradar modelos"
   ]
  },
  {
   "cell_type": "markdown",
   "metadata": {},
   "source": [
    "# Lista de control"
   ]
  },
  {
   "cell_type": "markdown",
   "metadata": {},
   "source": [
    "Escribe 'x' para verificar. Luego presiona Shift+Enter."
   ]
  },
  {
   "cell_type": "markdown",
   "metadata": {},
   "source": [
    "- [x]  Jupyter Notebook está abierto\n",
    "- [X]  El código no tiene errores- [X]  Las celdas están ordenadas de acuerdo con la lógica y el orden de ejecución\n",
    "- [X]  Se ha realizado la tarea 1\n",
    "    - [X]  Está presente el procedimiento que puede devolver k clientes similares para un cliente determinado\n",
    "    - [X]  Se probó el procedimiento para las cuatro combinaciones propuestas    - [X]  Se respondieron las preguntas sobre la escala/distancia- [X]  Se ha realizado la tarea 2\n",
    "    - [X]  Se construyó y probó el modelo de clasificación aleatoria para todos los niveles de probabilidad    - [X]  Se construyó y probó el modelo de clasificación kNN tanto para los datos originales como para los escalados. Se calculó la métrica F1.- [X]  Se ha realizado la tarea 3\n",
    "    - [X]  Se implementó la solución de regresión lineal mediante operaciones matriciales    - [ ]  Se calculó la RECM para la solución implementada- [X]  Se ha realizado la tarea 4\n",
    "    - [X]  Se ofuscaron los datos mediante una matriz aleatoria e invertible P    - [X]  Se recuperaron los datos ofuscados y se han mostrado algunos ejemplos    - [X]  Se proporcionó la prueba analítica de que la transformación no afecta a la RECM    - [X]  Se proporcionó la prueba computacional de que la transformación no afecta a la RECM- [X]  Se han sacado conclusiones"
   ]
  },
  {
   "cell_type": "markdown",
   "metadata": {},
   "source": [
    "# Apéndices\n",
    "\n",
    "## Apéndice A: Escribir fórmulas en los cuadernos de Jupyter"
   ]
  },
  {
   "cell_type": "markdown",
   "metadata": {},
   "source": [
    "Puedes escribir fórmulas en tu Jupyter Notebook utilizando un lenguaje de marcado proporcionado por un sistema de publicación de alta calidad llamado $\\LaTeX$ (se pronuncia como \"Lah-tech\"). Las fórmulas se verán como las de los libros de texto.\n",
    "\n",
    "Para incorporar una fórmula a un texto, pon el signo de dólar (\\\\$) antes y después del texto de la fórmula, por ejemplo: $\\frac{1}{2} \\times \\frac{3}{2} = \\frac{3}{4}$ or $y = x^2, x \\ge 1$.\n",
    "\n",
    "Si una fórmula debe estar en el mismo párrafo, pon el doble signo de dólar (\\\\$\\\\$) antes y después del texto de la fórmula, por ejemplo:\n",
    "$$\n",
    "\\bar{x} = \\frac{1}{n}\\sum_{i=1}^{n} x_i.\n",
    "$$\n",
    "\n",
    "El lenguaje de marcado de [LaTeX](https://es.wikipedia.org/wiki/LaTeX) es muy popular entre las personas que utilizan fórmulas en sus artículos, libros y textos. Puede resultar complicado, pero sus fundamentos son sencillos. Consulta esta [ficha de ayuda](http://tug.ctan.org/info/undergradmath/undergradmath.pdf) (materiales en inglés) de dos páginas para aprender a componer las fórmulas más comunes."
   ]
  },
  {
   "cell_type": "markdown",
   "metadata": {},
   "source": [
    "## Apéndice B: Propiedades de las matrices"
   ]
  },
  {
   "cell_type": "markdown",
   "metadata": {},
   "source": [
    "Las matrices tienen muchas propiedades en cuanto al álgebra lineal. Aquí se enumeran algunas de ellas que pueden ayudarte a la hora de realizar la prueba analítica de este proyecto."
   ]
  },
  {
   "cell_type": "markdown",
   "metadata": {},
   "source": [
    "<table>\n",
    "<tr>\n",
    "<td>Distributividad</td><td>$A(B+C)=AB+AC$</td>\n",
    "</tr>\n",
    "<tr>\n",
    "<td>No conmutatividad</td><td>$AB \\neq BA$</td>\n",
    "</tr>\n",
    "<tr>\n",
    "<td>Propiedad asociativa de la multiplicación</td><td>$(AB)C = A(BC)$</td>\n",
    "</tr>\n",
    "<tr>\n",
    "<td>Propiedad de identidad multiplicativa</td><td>$IA = AI = A$</td>\n",
    "</tr>\n",
    "<tr>\n",
    "<td></td><td>$A^{-1}A = AA^{-1} = I$\n",
    "</td>\n",
    "</tr>    \n",
    "<tr>\n",
    "<td></td><td>$(AB)^{-1} = B^{-1}A^{-1}$</td>\n",
    "</tr>    \n",
    "<tr>\n",
    "<td>Reversibilidad de la transposición de un producto de matrices,</td><td>$(AB)^T = B^TA^T$</td>\n",
    "</tr>    \n",
    "</table>"
   ]
  }
 ],
 "metadata": {
  "ExecuteTimeLog": [
   {
    "duration": 2989,
    "start_time": "2025-03-25T21:31:16.871Z"
   },
   {
    "duration": 2651,
    "start_time": "2025-03-25T21:31:19.863Z"
   },
   {
    "duration": 6,
    "start_time": "2025-03-25T21:31:22.516Z"
   },
   {
    "duration": 240,
    "start_time": "2025-03-25T21:32:59.567Z"
   },
   {
    "duration": 11,
    "start_time": "2025-03-25T21:33:07.262Z"
   },
   {
    "duration": 3,
    "start_time": "2025-03-25T21:33:09.833Z"
   },
   {
    "duration": 13,
    "start_time": "2025-03-25T21:33:11.353Z"
   },
   {
    "duration": 11,
    "start_time": "2025-03-25T21:33:16.022Z"
   },
   {
    "duration": 4,
    "start_time": "2025-03-25T21:33:19.374Z"
   },
   {
    "duration": 9,
    "start_time": "2025-03-25T21:33:22.253Z"
   },
   {
    "duration": 16,
    "start_time": "2025-03-25T21:34:07.833Z"
   },
   {
    "duration": 2556,
    "start_time": "2025-03-25T21:35:24.261Z"
   },
   {
    "duration": 4,
    "start_time": "2025-03-25T21:41:18.471Z"
   },
   {
    "duration": 19,
    "start_time": "2025-03-25T21:41:23.217Z"
   },
   {
    "duration": 76,
    "start_time": "2025-03-25T21:41:53.797Z"
   },
   {
    "duration": 4,
    "start_time": "2025-03-25T21:48:03.931Z"
   },
   {
    "duration": 6,
    "start_time": "2025-03-25T21:51:10.020Z"
   },
   {
    "duration": 659,
    "start_time": "2025-03-25T21:51:33.278Z"
   },
   {
    "duration": 8,
    "start_time": "2025-03-25T21:51:49.383Z"
   },
   {
    "duration": 8,
    "start_time": "2025-03-25T21:53:13.690Z"
   },
   {
    "duration": 900,
    "start_time": "2025-03-25T21:53:58.383Z"
   },
   {
    "duration": 52,
    "start_time": "2025-03-25T21:54:24.753Z"
   },
   {
    "duration": 134,
    "start_time": "2025-03-25T21:56:54.276Z"
   },
   {
    "duration": 3,
    "start_time": "2025-03-25T22:03:28.248Z"
   },
   {
    "duration": 9,
    "start_time": "2025-03-25T22:03:32.182Z"
   },
   {
    "duration": 3,
    "start_time": "2025-03-25T22:09:45.305Z"
   },
   {
    "duration": 3,
    "start_time": "2025-03-25T22:13:05.343Z"
   },
   {
    "duration": 13,
    "start_time": "2025-03-25T22:14:06.432Z"
   },
   {
    "duration": 413,
    "start_time": "2025-03-25T22:14:27.579Z"
   },
   {
    "duration": 16,
    "start_time": "2025-03-25T22:27:55.074Z"
   },
   {
    "duration": 3,
    "start_time": "2025-03-25T22:28:01.330Z"
   },
   {
    "duration": 2,
    "start_time": "2025-03-25T22:28:03.525Z"
   },
   {
    "duration": 3,
    "start_time": "2025-03-25T22:28:04.848Z"
   },
   {
    "duration": 5,
    "start_time": "2025-03-25T22:28:08.967Z"
   },
   {
    "duration": 3,
    "start_time": "2025-03-25T22:29:23.653Z"
   },
   {
    "duration": 4,
    "start_time": "2025-03-25T22:29:30.733Z"
   },
   {
    "duration": 7,
    "start_time": "2025-03-25T22:29:38.397Z"
   },
   {
    "duration": 8,
    "start_time": "2025-03-25T22:29:44.828Z"
   },
   {
    "duration": 3,
    "start_time": "2025-03-25T22:38:29.090Z"
   },
   {
    "duration": 6,
    "start_time": "2025-03-25T22:39:28.829Z"
   },
   {
    "duration": 26,
    "start_time": "2025-03-25T22:39:45.153Z"
   }
  ],
  "kernelspec": {
   "display_name": "Python 3 (ipykernel)",
   "language": "python",
   "name": "python3"
  },
  "language_info": {
   "codemirror_mode": {
    "name": "ipython",
    "version": 3
   },
   "file_extension": ".py",
   "mimetype": "text/x-python",
   "name": "python",
   "nbconvert_exporter": "python",
   "pygments_lexer": "ipython3",
   "version": "3.9.19"
  },
  "toc": {
   "base_numbering": 1,
   "nav_menu": {},
   "number_sections": true,
   "sideBar": true,
   "skip_h1_title": true,
   "title_cell": "Table of Contents",
   "title_sidebar": "Contents",
   "toc_cell": false,
   "toc_position": {},
   "toc_section_display": true,
   "toc_window_display": false
  }
 },
 "nbformat": 4,
 "nbformat_minor": 4
}
